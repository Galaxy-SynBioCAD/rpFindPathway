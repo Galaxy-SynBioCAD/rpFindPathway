{
 "cells": [
  {
   "cell_type": "code",
   "execution_count": 1,
   "metadata": {},
   "outputs": [],
   "source": [
    "import rpSBML\n",
    "import rpTool"
   ]
  },
  {
   "cell_type": "code",
   "execution_count": 2,
   "metadata": {},
   "outputs": [],
   "source": [
    "rpsbml = rpSBML.rpSBML('sim')\n",
    "rpsbml.readSBML('/home/mdulac/workspace/Galaxy-SynBioCAD/rpFindPathway/rpFindPathway_image/rp_10_1.rpsbml.xml')\n",
    "measured = rpSBML.rpSBML('measured')\n",
    "measured.readSBML('measured_62.sbml')"
   ]
  },
  {
   "cell_type": "code",
   "execution_count": 3,
   "metadata": {},
   "outputs": [
    {
     "name": "stdout",
     "output_type": "stream",
     "text": [
      "Species\n",
      "{'MNXM23__64__MNXC3': [], 'MNXM426__64__MNXC3': ['MNXM114079__64__MNXC3', 0.8], 'MNXM664__64__MNXC3': [], 'MNXM2757__64__MNXC3': ['TARGET_0000000001__64__MNXC3', 0.8]}\n",
      "#############################\n",
      "Simulated\n",
      "{'RP1': {'reactants': ['CMPD_0000000002__64__MNXC3', 'MNXM1__64__MNXC3', 'MNXM10__64__MNXC3'], 'products': ['TARGET_0000000001__64__MNXC3', 'MNXM8__64__MNXC3']}, 'RP2': {'reactants': ['MNXM114079__64__MNXC3', 'MNXM8975__64__MNXC3'], 'products': ['CMPD_0000000002__64__MNXC3', 'MNXM24__64__MNXC3', 'MNXM13__64__MNXC3']}}\n",
      "#############################\n",
      "Measured\n",
      "{'M3': {'reactants': ['MNXM23__64__MNXC3'], 'reactants_score': [0.0], 'products': ['MNXM114079__64__MNXC3'], 'products_score': [0.8], 'score': 0.0, 'sim_reaction': None}, 'M2': {'reactants': ['MNXM114079__64__MNXC3'], 'reactants_score': [0.8], 'products': ['MNXM664__64__MNXC3'], 'products_score': [0.0], 'score': 0.0, 'sim_reaction': None}, 'M1': {'reactants': ['MNXM664__64__MNXC3'], 'reactants_score': [0.0], 'products': ['TARGET_0000000001__64__MNXC3'], 'products_score': [0.8], 'score': 0.0, 'sim_reaction': None}}\n",
      "#############################\n",
      "Measured\n",
      "{'M3': {'reactants': ['MNXM23__64__MNXC3'], 'reactants_score': [0.0], 'products': ['MNXM114079__64__MNXC3'], 'products_score': [0.8], 'score': 0.0, 'sim_reaction': None}, 'M2': {'reactants': ['MNXM114079__64__MNXC3'], 'reactants_score': [0.8], 'products': ['MNXM664__64__MNXC3'], 'products_score': [0.0], 'score': 0.0, 'sim_reaction': None}, 'M1': {'reactants': ['MNXM664__64__MNXC3'], 'reactants_score': [0.0], 'products': ['TARGET_0000000001__64__MNXC3'], 'products_score': [0.8], 'score': 0.0, 'sim_reaction': None}, 'score': 0.4000000000000001}\n",
      "#############################\n"
     ]
    }
   ],
   "source": [
    "rpTool.compareRPpathways_rewrite(rpsbml, measured)"
   ]
  },
  {
   "cell_type": "code",
   "execution_count": 5,
   "metadata": {},
   "outputs": [],
   "source": [
    "import numpy as np"
   ]
  },
  {
   "cell_type": "code",
   "execution_count": 6,
   "metadata": {},
   "outputs": [
    {
     "data": {
      "text/plain": [
       "1.0"
      ]
     },
     "execution_count": 6,
     "metadata": {},
     "output_type": "execute_result"
    }
   ],
   "source": [
    "np.mean([1,1,1,1,1])"
   ]
  },
  {
   "cell_type": "code",
   "execution_count": null,
   "metadata": {},
   "outputs": [],
   "source": []
  },
  {
   "cell_type": "code",
   "execution_count": null,
   "metadata": {},
   "outputs": [],
   "source": []
  },
  {
   "cell_type": "code",
   "execution_count": null,
   "metadata": {},
   "outputs": [],
   "source": []
  },
  {
   "cell_type": "code",
   "execution_count": null,
   "metadata": {},
   "outputs": [],
   "source": []
  },
  {
   "cell_type": "code",
   "execution_count": null,
   "metadata": {},
   "outputs": [],
   "source": []
  },
  {
   "cell_type": "code",
   "execution_count": null,
   "metadata": {},
   "outputs": [],
   "source": []
  },
  {
   "cell_type": "code",
   "execution_count": null,
   "metadata": {},
   "outputs": [],
   "source": []
  },
  {
   "cell_type": "code",
   "execution_count": 4,
   "metadata": {},
   "outputs": [],
   "source": [
    "a = {'M3': {'reactants': ['MNXM23__64__MNXC3'], 'products': ['MNXM114079__64__MNXC3'], 'score': 0.0, 'sim_reaction': None}, 'M2': {'reactants': ['MNXM114079__64__MNXC3'], 'products': ['MNXM664__64__MNXC3'], 'score': 0.0, 'sim_reaction': None}, 'M1': {'reactants': ['MNXM664__64__MNXC3'], 'products': ['TARGET_0000000001__64__MNXC3'], 'score': 0.0, 'sim_reaction': None}}"
   ]
  },
  {
   "cell_type": "code",
   "execution_count": 10,
   "metadata": {},
   "outputs": [
    {
     "data": {
      "text/plain": [
       "{'reactants': ['MNXM23__64__MNXC3'],\n",
       " 'products': ['MNXM114079__64__MNXC3'],\n",
       " 'score': 0.0,\n",
       " 'sim_reaction': None}"
      ]
     },
     "execution_count": 10,
     "metadata": {},
     "output_type": "execute_result"
    }
   ],
   "source": [
    "a['M3']"
   ]
  },
  {
   "cell_type": "code",
   "execution_count": 7,
   "metadata": {},
   "outputs": [
    {
     "data": {
      "text/plain": [
       "True"
      ]
     },
     "execution_count": 7,
     "metadata": {},
     "output_type": "execute_result"
    }
   ],
   "source": [
    "set(['a', 'b']).issubset(['a', 'b', 'c'])"
   ]
  },
  {
   "cell_type": "code",
   "execution_count": null,
   "metadata": {},
   "outputs": [],
   "source": []
  },
  {
   "cell_type": "code",
   "execution_count": null,
   "metadata": {},
   "outputs": [],
   "source": []
  },
  {
   "cell_type": "code",
   "execution_count": null,
   "metadata": {},
   "outputs": [],
   "source": []
  },
  {
   "cell_type": "code",
   "execution_count": null,
   "metadata": {},
   "outputs": [],
   "source": []
  },
  {
   "cell_type": "code",
   "execution_count": 6,
   "metadata": {},
   "outputs": [],
   "source": [
    "meas_species_match = {'MNXM23__64__MNXC3': {}, 'MNXM426__64__MNXC3': {'MNXM114079__64__MNXC3': 0.8}, 'MNXM664__64__MNXC3': {}, 'MNXM2757__64__MNXC3': {'TARGET_0000000001__64__MNXC3': 0.8}}"
   ]
  },
  {
   "cell_type": "code",
   "execution_count": 12,
   "metadata": {},
   "outputs": [
    {
     "data": {
      "text/plain": [
       "dict_keys(['MNXM23__64__MNXC3', 'MNXM426__64__MNXC3', 'MNXM664__64__MNXC3', 'MNXM2757__64__MNXC3'])"
      ]
     },
     "execution_count": 12,
     "metadata": {},
     "output_type": "execute_result"
    }
   ],
   "source": [
    "meas_species_match.keys()"
   ]
  },
  {
   "cell_type": "code",
   "execution_count": 5,
   "metadata": {},
   "outputs": [],
   "source": [
    "sim_reactions = {'RP1': {'reactants': [{'id': 'CMPD_0000000002__64__MNXC3', 'stoichiometry': 1.0}, {'id': 'MNXM1__64__MNXC3', 'stoichiometry': 1.0}, {'id': 'MNXM10__64__MNXC3', 'stoichiometry': 1.0}, {'id': 'TARGET_0000000001__64__MNXC3', 'stoichiometry': 1.0}, {'id': 'MNXM8__64__MNXC3', 'stoichiometry': 2.0}], 'products': []}, 'RP2': {'reactants': [{'id': 'MNXM114079__64__MNXC3', 'stoichiometry': 1.0}, {'id': 'MNXM8975__64__MNXC3', 'stoichiometry': 1.0}, {'id': 'CMPD_0000000002__64__MNXC3', 'stoichiometry': 1.0}, {'id': 'MNXM24__64__MNXC3', 'stoichiometry': 1.0}, {'id': 'MNXM13__64__MNXC3', 'stoichiometry': 1.0}], 'products': []}}"
   ]
  },
  {
   "cell_type": "code",
   "execution_count": 4,
   "metadata": {},
   "outputs": [],
   "source": [
    "measured_reactions_match = {'M3': {'reactants': [{'id': 'MNXM23__64__MNXC3', 'stoichiometry': 1.0, 'score': 0.0}], 'products': [{'id': 'MNXM426__64__MNXC3', 'stoichiometry': 1.0, 'score': 0.0}], 'score': 0.0, 'sim_reaction': None}, 'M2': {'reactants': [{'id': 'MNXM426__64__MNXC3', 'stoichiometry': 1.0, 'score': 0.0}], 'products': [{'id': 'MNXM664__64__MNXC3', 'stoichiometry': 1.0, 'score': 0.0}], 'score': 0.0, 'sim_reaction': None}, 'M1': {'reactants': [{'id': 'MNXM664__64__MNXC3', 'stoichiometry': 1.0, 'score': 0.0}], 'products': [{'id': 'MNXM2757__64__MNXC3', 'stoichiometry': 1.0, 'score': 0.0}], 'score': 0.0, 'sim_reaction': None}}"
   ]
  },
  {
   "cell_type": "code",
   "execution_count": 10,
   "metadata": {},
   "outputs": [
    {
     "data": {
      "text/plain": [
       "[{'id': 'CMPD_0000000002__64__MNXC3', 'stoichiometry': 1.0},\n",
       " {'id': 'MNXM1__64__MNXC3', 'stoichiometry': 1.0},\n",
       " {'id': 'MNXM10__64__MNXC3', 'stoichiometry': 1.0},\n",
       " {'id': 'TARGET_0000000001__64__MNXC3', 'stoichiometry': 1.0},\n",
       " {'id': 'MNXM8__64__MNXC3', 'stoichiometry': 2.0}]"
      ]
     },
     "execution_count": 10,
     "metadata": {},
     "output_type": "execute_result"
    }
   ],
   "source": [
    "sim_reactions['RP1']['reactants']"
   ]
  },
  {
   "cell_type": "code",
   "execution_count": 9,
   "metadata": {},
   "outputs": [
    {
     "data": {
      "text/plain": [
       "[{'id': 'MNXM664__64__MNXC3', 'stoichiometry': 1.0, 'score': 0.0}]"
      ]
     },
     "execution_count": 9,
     "metadata": {},
     "output_type": "execute_result"
    }
   ],
   "source": [
    "measured_reactions_match['M1']['reactants']"
   ]
  },
  {
   "cell_type": "code",
   "execution_count": 13,
   "metadata": {},
   "outputs": [
    {
     "data": {
      "text/plain": [
       "{}"
      ]
     },
     "execution_count": 13,
     "metadata": {},
     "output_type": "execute_result"
    }
   ],
   "source": [
    "meas_species_match[measured_reactions_match['M1']['reactants'][0]['id']]"
   ]
  },
  {
   "cell_type": "code",
   "execution_count": null,
   "metadata": {},
   "outputs": [],
   "source": []
  },
  {
   "cell_type": "code",
   "execution_count": null,
   "metadata": {},
   "outputs": [],
   "source": []
  },
  {
   "cell_type": "code",
   "execution_count": null,
   "metadata": {},
   "outputs": [],
   "source": []
  },
  {
   "cell_type": "code",
   "execution_count": null,
   "metadata": {},
   "outputs": [],
   "source": []
  },
  {
   "cell_type": "code",
   "execution_count": null,
   "metadata": {},
   "outputs": [],
   "source": []
  },
  {
   "cell_type": "code",
   "execution_count": 27,
   "metadata": {},
   "outputs": [],
   "source": [
    "a = {'M3': {'reactants': {'MNXM23__64__MNXC3': {'species': None, 'score': 0.0}}, 'products': {'MNXM426__64__MNXC3': {'species': 'MNXM114079__64__MNXC3', 'score': 0.8}}, 'score': 0.0}, 'M2': {'reactants': {'MNXM426__64__MNXC3': {'species': 'MNXM114079__64__MNXC3', 'score': 0.8}}, 'products': {'MNXM664__64__MNXC3': {'species': None, 'score': 0.0}}, 'score': 0.0}, 'M1': {'reactants': {'MNXM664__64__MNXC3': {'species': None, 'score': 0.0}}, 'products': {'MNXM2757__64__MNXC3': {'species': 'TARGET_0000000001__64__MNXC3', 'score': 0.8}}, 'score': 0.0}}"
   ]
  },
  {
   "cell_type": "code",
   "execution_count": 26,
   "metadata": {},
   "outputs": [
    {
     "data": {
      "text/plain": [
       "dict_keys(['MNXM23__64__MNXC3', 'MNXM426__64__MNXC3', 'MNXM664__64__MNXC3', 'MNXM2757__64__MNXC3'])"
      ]
     },
     "execution_count": 26,
     "metadata": {},
     "output_type": "execute_result"
    }
   ],
   "source": [
    "a.keys()"
   ]
  },
  {
   "cell_type": "code",
   "execution_count": 6,
   "metadata": {},
   "outputs": [
    {
     "data": {
      "text/plain": [
       "dict_keys(['reactants', 'products', 'score'])"
      ]
     },
     "execution_count": 6,
     "metadata": {},
     "output_type": "execute_result"
    }
   ],
   "source": [
    "a['M1'].keys()"
   ]
  },
  {
   "cell_type": "code",
   "execution_count": 19,
   "metadata": {},
   "outputs": [
    {
     "data": {
      "text/plain": [
       "{'MNXM664__64__MNXC3': {'species': None, 'score': 0.0}}"
      ]
     },
     "execution_count": 19,
     "metadata": {},
     "output_type": "execute_result"
    }
   ],
   "source": [
    "a['M1']['reactants']"
   ]
  },
  {
   "cell_type": "code",
   "execution_count": 20,
   "metadata": {},
   "outputs": [
    {
     "data": {
      "text/plain": [
       "[False]"
      ]
     },
     "execution_count": 20,
     "metadata": {},
     "output_type": "execute_result"
    }
   ],
   "source": [
    "[True if a['M1']['reactants'][g]['species'] else False for g in a['M1']['reactants']]"
   ]
  },
  {
   "cell_type": "code",
   "execution_count": 28,
   "metadata": {},
   "outputs": [
    {
     "data": {
      "text/plain": [
       "[0.0]"
      ]
     },
     "execution_count": 28,
     "metadata": {},
     "output_type": "execute_result"
    }
   ],
   "source": [
    "[a['M1']['reactants'][g]['score'] for g in a['M1']['reactants']]"
   ]
  },
  {
   "cell_type": "code",
   "execution_count": 17,
   "metadata": {},
   "outputs": [
    {
     "data": {
      "text/plain": [
       "{'MNXM2757__64__MNXC3': {'species': 'TARGET_0000000001__64__MNXC3',\n",
       "  'score': 0.8}}"
      ]
     },
     "execution_count": 17,
     "metadata": {},
     "output_type": "execute_result"
    }
   ],
   "source": [
    "a['M1']['products']"
   ]
  },
  {
   "cell_type": "code",
   "execution_count": 14,
   "metadata": {},
   "outputs": [
    {
     "data": {
      "text/plain": [
       "{'reactants': {'MNXM664__64__MNXC3': {'species': None, 'score': 0.0}},\n",
       " 'products': {'MNXM2757__64__MNXC3': {'species': 'TARGET_0000000001__64__MNXC3',\n",
       "   'score': 0.8}},\n",
       " 'score': 0.0}"
      ]
     },
     "execution_count": 14,
     "metadata": {},
     "output_type": "execute_result"
    }
   ],
   "source": [
    "a['M1']"
   ]
  },
  {
   "cell_type": "code",
   "execution_count": 24,
   "metadata": {},
   "outputs": [
    {
     "name": "stdout",
     "output_type": "stream",
     "text": [
      "sdsd\n"
     ]
    }
   ],
   "source": [
    "if all([True, True]):\n",
    "    print('sdsd')"
   ]
  },
  {
   "cell_type": "code",
   "execution_count": 22,
   "metadata": {},
   "outputs": [],
   "source": [
    "a = {'MNXM23__64__MNXC3': {}, 'MNXM426__64__MNXC3': {'MNXM114079__64__MNXC3': 0.8}, 'MNXM664__64__MNXC3': {}, 'MNXM2757__64__MNXC3': {'TARGET_0000000001__64__MNXC3': 0.8}}"
   ]
  },
  {
   "cell_type": "code",
   "execution_count": 10,
   "metadata": {},
   "outputs": [
    {
     "data": {
      "text/plain": [
       "dict_keys(['MNXM23__64__MNXC3', 'MNXM426__64__MNXC3', 'MNXM664__64__MNXC3', 'MNXM2757__64__MNXC3'])"
      ]
     },
     "execution_count": 10,
     "metadata": {},
     "output_type": "execute_result"
    }
   ],
   "source": [
    "a.keys()"
   ]
  },
  {
   "cell_type": "code",
   "execution_count": 11,
   "metadata": {},
   "outputs": [
    {
     "data": {
      "text/plain": [
       "'TARGET_0000000001__64__MNXC3'"
      ]
     },
     "execution_count": 11,
     "metadata": {},
     "output_type": "execute_result"
    }
   ],
   "source": [
    "list(a['MNXM2757__64__MNXC3'].keys())[0]"
   ]
  },
  {
   "cell_type": "code",
   "execution_count": null,
   "metadata": {},
   "outputs": [],
   "source": []
  },
  {
   "cell_type": "code",
   "execution_count": null,
   "metadata": {},
   "outputs": [],
   "source": []
  },
  {
   "cell_type": "code",
   "execution_count": null,
   "metadata": {},
   "outputs": [],
   "source": [
    "{'MNXM23__64__MNXC3': {}, 'MNXM426__64__MNXC3': {'MNXM114079__64__MNXC3': 0.8}, 'MNXM664__64__MNXC3': {}, 'MNXM2757__64__MNXC3': {'TARGET_0000000001__64__MNXC3': 0.8}}"
   ]
  },
  {
   "cell_type": "code",
   "execution_count": null,
   "metadata": {},
   "outputs": [],
   "source": []
  },
  {
   "cell_type": "code",
   "execution_count": null,
   "metadata": {},
   "outputs": [],
   "source": []
  },
  {
   "cell_type": "code",
   "execution_count": 4,
   "metadata": {},
   "outputs": [
    {
     "data": {
      "text/plain": [
       "<Species MNXM114079__64__MNXC3 \"(2S)-2-acetolactate\">"
      ]
     },
     "execution_count": 4,
     "metadata": {},
     "output_type": "execute_result"
    }
   ],
   "source": [
    "rpsbml.model.getSpecies('MNXM114079__64__MNXC3')"
   ]
  },
  {
   "cell_type": "code",
   "execution_count": 4,
   "metadata": {},
   "outputs": [],
   "source": [
    "a = {'reactants': {'species': {'MNXM664__64__MNXC3': {}}, 'num': 1}, 'products': {'species': {'MNXM2757__64__MNXC3': {'TARGET_0000000001__64__MNXC3': 0.8}}, 'num': 1}, 'score': None}"
   ]
  },
  {
   "cell_type": "code",
   "execution_count": 5,
   "metadata": {},
   "outputs": [
    {
     "data": {
      "text/plain": [
       "dict_keys(['reactants', 'products', 'score'])"
      ]
     },
     "execution_count": 5,
     "metadata": {},
     "output_type": "execute_result"
    }
   ],
   "source": [
    "a.keys()"
   ]
  },
  {
   "cell_type": "code",
   "execution_count": 6,
   "metadata": {},
   "outputs": [
    {
     "data": {
      "text/plain": [
       "{'MNXM664__64__MNXC3': {}}"
      ]
     },
     "execution_count": 6,
     "metadata": {},
     "output_type": "execute_result"
    }
   ],
   "source": [
    "a['reactants']['species']"
   ]
  },
  {
   "cell_type": "code",
   "execution_count": 8,
   "metadata": {},
   "outputs": [
    {
     "data": {
      "text/plain": [
       "{'MNXM2757__64__MNXC3': {'TARGET_0000000001__64__MNXC3': 0.8}}"
      ]
     },
     "execution_count": 8,
     "metadata": {},
     "output_type": "execute_result"
    }
   ],
   "source": [
    "a['products']['species']"
   ]
  },
  {
   "cell_type": "code",
   "execution_count": 9,
   "metadata": {},
   "outputs": [],
   "source": [
    "b = {'reactants': {'species': {'MNXM664__64__MNXC3': {}}, 'num': 1}, 'products': {'species': {'MNXM2757__64__MNXC3': {'TARGET_0000000001__64__MNXC3': 0.8}}, 'num': 1}, 'score': None}"
   ]
  },
  {
   "cell_type": "code",
   "execution_count": 13,
   "metadata": {},
   "outputs": [
    {
     "data": {
      "text/plain": [
       "{'MNXM664__64__MNXC3': {}}"
      ]
     },
     "execution_count": 13,
     "metadata": {},
     "output_type": "execute_result"
    }
   ],
   "source": [
    "b['reactants']['species']"
   ]
  },
  {
   "cell_type": "code",
   "execution_count": 15,
   "metadata": {},
   "outputs": [
    {
     "data": {
      "text/plain": [
       "{'MNXM2757__64__MNXC3': {'TARGET_0000000001__64__MNXC3': 0.8}}"
      ]
     },
     "execution_count": 15,
     "metadata": {},
     "output_type": "execute_result"
    }
   ],
   "source": [
    "b['products']['species']"
   ]
  },
  {
   "cell_type": "code",
   "execution_count": null,
   "metadata": {},
   "outputs": [],
   "source": []
  },
  {
   "cell_type": "code",
   "execution_count": 8,
   "metadata": {},
   "outputs": [
    {
     "data": {
      "text/plain": [
       "{'MNXM664__64__MNXC3': {}}"
      ]
     },
     "execution_count": 8,
     "metadata": {},
     "output_type": "execute_result"
    }
   ],
   "source": [
    "a['products']['species']"
   ]
  },
  {
   "cell_type": "code",
   "execution_count": null,
   "metadata": {},
   "outputs": [],
   "source": []
  },
  {
   "cell_type": "code",
   "execution_count": 35,
   "metadata": {},
   "outputs": [],
   "source": [
    "a = rpsbml.model.getListOfReactions()"
   ]
  },
  {
   "cell_type": "code",
   "execution_count": 36,
   "metadata": {},
   "outputs": [],
   "source": [
    "b = a[0]"
   ]
  },
  {
   "cell_type": "code",
   "execution_count": 37,
   "metadata": {},
   "outputs": [],
   "source": [
    "c = b.getListOfProducts()"
   ]
  },
  {
   "cell_type": "code",
   "execution_count": 39,
   "metadata": {},
   "outputs": [],
   "source": [
    "d = c[0]"
   ]
  },
  {
   "cell_type": "code",
   "execution_count": 43,
   "metadata": {},
   "outputs": [
    {
     "data": {
      "text/plain": [
       "1.0"
      ]
     },
     "execution_count": 43,
     "metadata": {},
     "output_type": "execute_result"
    }
   ],
   "source": [
    "d.stoichiometry"
   ]
  },
  {
   "cell_type": "code",
   "execution_count": null,
   "metadata": {},
   "outputs": [],
   "source": []
  },
  {
   "cell_type": "code",
   "execution_count": 6,
   "metadata": {},
   "outputs": [
    {
     "data": {
      "text/plain": [
       "['MNXM114079__64__MNXC3',\n",
       " 'CMPD_0000000002__64__MNXC3',\n",
       " 'MNXM10__64__MNXC3',\n",
       " 'TARGET_0000000001__64__MNXC3',\n",
       " 'MNXM1__64__MNXC3',\n",
       " 'MNXM8975__64__MNXC3',\n",
       " 'MNXM24__64__MNXC3',\n",
       " 'MNXM13__64__MNXC3',\n",
       " 'MNXM8__64__MNXC3']"
      ]
     },
     "execution_count": 6,
     "metadata": {},
     "output_type": "execute_result"
    }
   ],
   "source": [
    "[i.getId() for i in a]"
   ]
  },
  {
   "cell_type": "code",
   "execution_count": 4,
   "metadata": {},
   "outputs": [],
   "source": [
    "a = {'reactants': {'MNXM426__64__MNXC3': {'MNXM114079__64__MNXC3': 0.8}}, 'products': {'MNXM664__64__MNXC3': {}}, 'score': None}"
   ]
  },
  {
   "cell_type": "code",
   "execution_count": 5,
   "metadata": {},
   "outputs": [
    {
     "data": {
      "text/plain": [
       "{'reactants': {'MNXM426__64__MNXC3': {'MNXM114079__64__MNXC3': 0.8}},\n",
       " 'products': {'MNXM664__64__MNXC3': {}},\n",
       " 'score': None}"
      ]
     },
     "execution_count": 5,
     "metadata": {},
     "output_type": "execute_result"
    }
   ],
   "source": [
    "a"
   ]
  },
  {
   "cell_type": "code",
   "execution_count": 6,
   "metadata": {},
   "outputs": [
    {
     "data": {
      "text/plain": [
       "{'MNXM426__64__MNXC3': {'MNXM114079__64__MNXC3': 0.8}}"
      ]
     },
     "execution_count": 6,
     "metadata": {},
     "output_type": "execute_result"
    }
   ],
   "source": [
    "a['reactants']"
   ]
  },
  {
   "cell_type": "code",
   "execution_count": null,
   "metadata": {},
   "outputs": [],
   "source": []
  }
 ],
 "metadata": {
  "kernelspec": {
   "display_name": "Python 3",
   "language": "python",
   "name": "python3"
  },
  "language_info": {
   "codemirror_mode": {
    "name": "ipython",
    "version": 3
   },
   "file_extension": ".py",
   "mimetype": "text/x-python",
   "name": "python",
   "nbconvert_exporter": "python",
   "pygments_lexer": "ipython3",
   "version": "3.6.8"
  }
 },
 "nbformat": 4,
 "nbformat_minor": 2
}
