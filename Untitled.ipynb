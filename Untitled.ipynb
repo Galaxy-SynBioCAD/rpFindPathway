{
 "cells": [
  {
   "cell_type": "code",
   "execution_count": 26,
   "metadata": {},
   "outputs": [],
   "source": [
    "import rpSBML\n",
    "import rpTool\n",
    "import rpToolServe"
   ]
  },
  {
   "cell_type": "code",
   "execution_count": 27,
   "metadata": {},
   "outputs": [],
   "source": [
    "measured_rpsbml_path = 'measured_52.sbml'\n",
    "inputTar = 'Galaxy333-[rpSBML_Selenzyme].tar'\n",
    "results_json = 'results.json'"
   ]
  },
  {
   "cell_type": "code",
   "execution_count": 28,
   "metadata": {},
   "outputs": [],
   "source": [
    "a = rpToolServe.runFindPathway_hdd(measured_rpsbml_path, inputTar, results_json, 'rp_pathway')"
   ]
  },
  {
   "cell_type": "code",
   "execution_count": 29,
   "metadata": {},
   "outputs": [
    {
     "name": "stdout",
     "output_type": "stream",
     "text": [
      "rp_3_1\n",
      "False\n",
      "0.125\n",
      "#####################\n",
      "rp_1_1\n",
      "True\n",
      "0.825\n",
      "#####################\n",
      "rp_2_1\n",
      "False\n",
      "0.125\n",
      "#####################\n",
      "rp_1_2\n",
      "True\n",
      "0.825\n",
      "#####################\n"
     ]
    }
   ],
   "source": [
    "for i in a:\n",
    "    print(i)\n",
    "    print(a[i]['found'])\n",
    "    print(a[i]['confidence_score'])\n",
    "    print('#####################')"
   ]
  },
  {
   "cell_type": "code",
   "execution_count": 37,
   "metadata": {},
   "outputs": [
    {
     "data": {
      "text/plain": [
       "dict_keys(['M1', 'confidence_score', 'found'])"
      ]
     },
     "execution_count": 37,
     "metadata": {},
     "output_type": "execute_result"
    }
   ],
   "source": [
    "a['rp_1_2'].keys()"
   ]
  },
  {
   "cell_type": "code",
   "execution_count": 38,
   "metadata": {},
   "outputs": [
    {
     "data": {
      "text/plain": [
       "True"
      ]
     },
     "execution_count": 38,
     "metadata": {},
     "output_type": "execute_result"
    }
   ],
   "source": [
    "a['rp_1_2']['found']"
   ]
  },
  {
   "cell_type": "code",
   "execution_count": 32,
   "metadata": {},
   "outputs": [
    {
     "data": {
      "text/plain": [
       "0.825"
      ]
     },
     "execution_count": 32,
     "metadata": {},
     "output_type": "execute_result"
    }
   ],
   "source": [
    "a['rp_1_1']['confidence_score']"
   ]
  },
  {
   "cell_type": "code",
   "execution_count": 39,
   "metadata": {},
   "outputs": [
    {
     "data": {
      "text/plain": [
       "{'species_match': {'reactants': ['MNXM76__64__MNXC3'],\n",
       "  'reactants_score': [0.7999999999999999],\n",
       "  'products': ['TARGET_0000000001__64__MNXC3'],\n",
       "  'products_score': [0.5],\n",
       "  'score': 0.6499999999999999,\n",
       "  'found': True,\n",
       "  'sim_reaction': ['RP1']},\n",
       " 'ec_match': {'found': True, 'score': 1.0},\n",
       " 'confidence_score': 0.825,\n",
       " 'found': True}"
      ]
     },
     "execution_count": 39,
     "metadata": {},
     "output_type": "execute_result"
    }
   ],
   "source": [
    "a['rp_1_2']['M1']"
   ]
  },
  {
   "cell_type": "code",
   "execution_count": 34,
   "metadata": {},
   "outputs": [
    {
     "ename": "KeyError",
     "evalue": "'M2'",
     "output_type": "error",
     "traceback": [
      "\u001b[0;31m---------------------------------------------------------------------------\u001b[0m",
      "\u001b[0;31mKeyError\u001b[0m                                  Traceback (most recent call last)",
      "\u001b[0;32m<ipython-input-34-b21305556436>\u001b[0m in \u001b[0;36m<module>\u001b[0;34m\u001b[0m\n\u001b[0;32m----> 1\u001b[0;31m \u001b[0ma\u001b[0m\u001b[0;34m[\u001b[0m\u001b[0;34m'rp_1_1'\u001b[0m\u001b[0;34m]\u001b[0m\u001b[0;34m[\u001b[0m\u001b[0;34m'M2'\u001b[0m\u001b[0;34m]\u001b[0m\u001b[0;34m\u001b[0m\u001b[0;34m\u001b[0m\u001b[0m\n\u001b[0m",
      "\u001b[0;31mKeyError\u001b[0m: 'M2'"
     ]
    }
   ],
   "source": [
    "a['rp_1_1']['M2']"
   ]
  },
  {
   "cell_type": "code",
   "execution_count": 35,
   "metadata": {},
   "outputs": [
    {
     "ename": "KeyError",
     "evalue": "'M3'",
     "output_type": "error",
     "traceback": [
      "\u001b[0;31m---------------------------------------------------------------------------\u001b[0m",
      "\u001b[0;31mKeyError\u001b[0m                                  Traceback (most recent call last)",
      "\u001b[0;32m<ipython-input-35-0d421eb4f3a2>\u001b[0m in \u001b[0;36m<module>\u001b[0;34m\u001b[0m\n\u001b[0;32m----> 1\u001b[0;31m \u001b[0ma\u001b[0m\u001b[0;34m[\u001b[0m\u001b[0;34m'rp_1_1'\u001b[0m\u001b[0;34m]\u001b[0m\u001b[0;34m[\u001b[0m\u001b[0;34m'M3'\u001b[0m\u001b[0;34m]\u001b[0m\u001b[0;34m\u001b[0m\u001b[0;34m\u001b[0m\u001b[0m\n\u001b[0m",
      "\u001b[0;31mKeyError\u001b[0m: 'M3'"
     ]
    }
   ],
   "source": [
    "a['rp_1_1']['M3']"
   ]
  },
  {
   "cell_type": "code",
   "execution_count": 36,
   "metadata": {},
   "outputs": [
    {
     "ename": "KeyError",
     "evalue": "'M4'",
     "output_type": "error",
     "traceback": [
      "\u001b[0;31m---------------------------------------------------------------------------\u001b[0m",
      "\u001b[0;31mKeyError\u001b[0m                                  Traceback (most recent call last)",
      "\u001b[0;32m<ipython-input-36-81211aa17a5b>\u001b[0m in \u001b[0;36m<module>\u001b[0;34m\u001b[0m\n\u001b[0;32m----> 1\u001b[0;31m \u001b[0ma\u001b[0m\u001b[0;34m[\u001b[0m\u001b[0;34m'rp_1_1'\u001b[0m\u001b[0;34m]\u001b[0m\u001b[0;34m[\u001b[0m\u001b[0;34m'M4'\u001b[0m\u001b[0;34m]\u001b[0m\u001b[0;34m\u001b[0m\u001b[0;34m\u001b[0m\u001b[0m\n\u001b[0m",
      "\u001b[0;31mKeyError\u001b[0m: 'M4'"
     ]
    }
   ],
   "source": [
    "a['rp_1_1']['M4']"
   ]
  },
  {
   "cell_type": "code",
   "execution_count": null,
   "metadata": {},
   "outputs": [],
   "source": []
  },
  {
   "cell_type": "code",
   "execution_count": null,
   "metadata": {},
   "outputs": [],
   "source": []
  },
  {
   "cell_type": "code",
   "execution_count": 19,
   "metadata": {},
   "outputs": [
    {
     "ename": "NameError",
     "evalue": "name 'out' is not defined",
     "output_type": "error",
     "traceback": [
      "\u001b[0;31m---------------------------------------------------------------------------\u001b[0m",
      "\u001b[0;31mNameError\u001b[0m                                 Traceback (most recent call last)",
      "\u001b[0;32m<ipython-input-19-64604813c96d>\u001b[0m in \u001b[0;36m<module>\u001b[0;34m\u001b[0m\n\u001b[0;32m----> 1\u001b[0;31m \u001b[0mout\u001b[0m\u001b[0;34m[\u001b[0m\u001b[0;34m'rp_4_1'\u001b[0m\u001b[0;34m]\u001b[0m\u001b[0;34m[\u001b[0m\u001b[0;34m'found'\u001b[0m\u001b[0;34m]\u001b[0m\u001b[0;34m\u001b[0m\u001b[0;34m\u001b[0m\u001b[0m\n\u001b[0m",
      "\u001b[0;31mNameError\u001b[0m: name 'out' is not defined"
     ]
    }
   ],
   "source": [
    "out['rp_4_1']['found']"
   ]
  },
  {
   "cell_type": "code",
   "execution_count": 8,
   "metadata": {},
   "outputs": [
    {
     "data": {
      "text/plain": [
       "0.21875"
      ]
     },
     "execution_count": 8,
     "metadata": {},
     "output_type": "execute_result"
    }
   ],
   "source": [
    "out['rp_4_1']['confidence_score']"
   ]
  },
  {
   "cell_type": "code",
   "execution_count": 14,
   "metadata": {},
   "outputs": [
    {
     "data": {
      "text/plain": [
       "{'species_match': {'reactants': ['MNXM337__64__MNXC3'],\n",
       "  'reactants_score': [0.0],\n",
       "  'products': ['MNXM799__64__MNXC3'],\n",
       "  'products_score': [0.0],\n",
       "  'score': 0.0,\n",
       "  'found': False,\n",
       "  'sim_reaction': []},\n",
       " 'ec_match': {'found': False, 'diff': [], 'score': 0.0},\n",
       " 'confidence_score': 0.0,\n",
       " 'found': False}"
      ]
     },
     "execution_count": 14,
     "metadata": {},
     "output_type": "execute_result"
    }
   ],
   "source": [
    "out['rp_4_1']['M4']"
   ]
  },
  {
   "cell_type": "code",
   "execution_count": 10,
   "metadata": {},
   "outputs": [
    {
     "data": {
      "text/plain": [
       "{'species_match': {'reactants': ['MNXM799__64__MNXC3'],\n",
       "  'reactants_score': [0.0],\n",
       "  'products': ['MNXM378__64__MNXC3'],\n",
       "  'products_score': [0.0],\n",
       "  'score': 0.0,\n",
       "  'found': False,\n",
       "  'sim_reaction': []},\n",
       " 'ec_match': {'found': False, 'diff': [], 'score': 0.0},\n",
       " 'confidence_score': 0.0,\n",
       " 'found': False}"
      ]
     },
     "execution_count": 10,
     "metadata": {},
     "output_type": "execute_result"
    }
   ],
   "source": [
    "out['rp_4_1']['M3']"
   ]
  },
  {
   "cell_type": "code",
   "execution_count": 11,
   "metadata": {},
   "outputs": [
    {
     "data": {
      "text/plain": [
       "{'species_match': {'reactants': ['MNXM378__64__MNXC3'],\n",
       "  'reactants_score': [0.0],\n",
       "  'products': ['CMPD_0000000003__64__MNXC3'],\n",
       "  'products_score': [0.5],\n",
       "  'score': 0.25,\n",
       "  'found': False,\n",
       "  'sim_reaction': []},\n",
       " 'ec_match': {'found': False, 'diff': [], 'score': 0.0},\n",
       " 'confidence_score': 0.125,\n",
       " 'found': False}"
      ]
     },
     "execution_count": 11,
     "metadata": {},
     "output_type": "execute_result"
    }
   ],
   "source": [
    "out['rp_4_1']['M2']"
   ]
  },
  {
   "cell_type": "code",
   "execution_count": 12,
   "metadata": {},
   "outputs": [
    {
     "data": {
      "text/plain": [
       "{'species_match': {'reactants': ['CMPD_0000000003__64__MNXC3'],\n",
       "  'reactants_score': [0.5],\n",
       "  'products': ['TARGET_0000000001__64__MNXC3'],\n",
       "  'products_score': [0.5],\n",
       "  'score': 0.5,\n",
       "  'found': True,\n",
       "  'sim_reaction': 'RP1'},\n",
       " 'ec_match': {'found': True, 'diff': [], 'score': 1.0},\n",
       " 'confidence_score': 0.75,\n",
       " 'found': False}"
      ]
     },
     "execution_count": 12,
     "metadata": {},
     "output_type": "execute_result"
    }
   ],
   "source": [
    "out['rp_4_1']['M1']"
   ]
  },
  {
   "cell_type": "code",
   "execution_count": 18,
   "metadata": {},
   "outputs": [
    {
     "data": {
      "text/plain": [
       "True"
      ]
     },
     "execution_count": 18,
     "metadata": {},
     "output_type": "execute_result"
    }
   ],
   "source": []
  },
  {
   "cell_type": "code",
   "execution_count": null,
   "metadata": {},
   "outputs": [],
   "source": []
  },
  {
   "cell_type": "code",
   "execution_count": null,
   "metadata": {},
   "outputs": [],
   "source": []
  },
  {
   "cell_type": "code",
   "execution_count": null,
   "metadata": {},
   "outputs": [],
   "source": []
  },
  {
   "cell_type": "code",
   "execution_count": 10,
   "metadata": {},
   "outputs": [],
   "source": [
    "b = [i.split('.')[:-1] for i in a]"
   ]
  },
  {
   "cell_type": "code",
   "execution_count": null,
   "metadata": {},
   "outputs": [],
   "source": []
  },
  {
   "cell_type": "code",
   "execution_count": 15,
   "metadata": {},
   "outputs": [
    {
     "ename": "TypeError",
     "evalue": "unhashable type: 'list'",
     "output_type": "error",
     "traceback": [
      "\u001b[0;31m---------------------------------------------------------------------------\u001b[0m",
      "\u001b[0;31mTypeError\u001b[0m                                 Traceback (most recent call last)",
      "\u001b[0;32m<ipython-input-15-1390747a0750>\u001b[0m in \u001b[0;36m<module>\u001b[0;34m\u001b[0m\n\u001b[0;32m----> 1\u001b[0;31m \u001b[0mset\u001b[0m\u001b[0;34m(\u001b[0m\u001b[0mb\u001b[0m\u001b[0;34m)\u001b[0m\u001b[0;34m\u001b[0m\u001b[0;34m\u001b[0m\u001b[0m\n\u001b[0m",
      "\u001b[0;31mTypeError\u001b[0m: unhashable type: 'list'"
     ]
    }
   ],
   "source": []
  },
  {
   "cell_type": "code",
   "execution_count": null,
   "metadata": {},
   "outputs": [],
   "source": [
    "runFindPathway_hdd(measured_rpsbml_path, inputTar, results_json, pathway_id='rp_pathway')"
   ]
  },
  {
   "cell_type": "code",
   "execution_count": null,
   "metadata": {},
   "outputs": [],
   "source": []
  },
  {
   "cell_type": "code",
   "execution_count": null,
   "metadata": {},
   "outputs": [],
   "source": []
  },
  {
   "cell_type": "code",
   "execution_count": 2,
   "metadata": {},
   "outputs": [],
   "source": [
    "rpsbml = rpSBML.rpSBML('sim')\n",
    "rpsbml.readSBML('rp_10_1.rpsbml.xml')\n",
    "measured = rpSBML.rpSBML('measured')\n",
    "measured.readSBML('measured_62.sbml')"
   ]
  },
  {
   "cell_type": "code",
   "execution_count": 3,
   "metadata": {},
   "outputs": [
    {
     "name": "stdout",
     "output_type": "stream",
     "text": [
      "Species\n",
      "{'MNXM23__64__MNXC3': [], 'MNXM426__64__MNXC3': ['MNXM114079__64__MNXC3', 0.5], 'MNXM664__64__MNXC3': [], 'MNXM2757__64__MNXC3': ['TARGET_0000000001__64__MNXC3', 0.5]}\n",
      "#############################\n",
      "Simulated\n",
      "{'RP1': {'reactants': ['CMPD_0000000002__64__MNXC3', 'MNXM1__64__MNXC3', 'MNXM10__64__MNXC3'], 'products': ['TARGET_0000000001__64__MNXC3', 'MNXM8__64__MNXC3']}, 'RP2': {'reactants': ['MNXM114079__64__MNXC3', 'MNXM8975__64__MNXC3'], 'products': ['CMPD_0000000002__64__MNXC3', 'MNXM24__64__MNXC3', 'MNXM13__64__MNXC3']}}\n",
      "#############################\n",
      "Measured\n",
      "{'M3': {'species_match': {'reactants': ['MNXM23__64__MNXC3'], 'reactants_score': [0.0], 'products': ['MNXM114079__64__MNXC3'], 'products_score': [0.5], 'score': 0.25, 'found': False, 'sim_reaction': []}, 'ec_match': {'found': False, 'diff': [], 'score': 0.0}, 'confidence_score': 0.0, 'found': False}, 'M2': {'species_match': {'reactants': ['MNXM114079__64__MNXC3'], 'reactants_score': [0.5], 'products': ['MNXM664__64__MNXC3'], 'products_score': [0.0], 'score': 0.25, 'found': False, 'sim_reaction': []}, 'ec_match': {'found': False, 'diff': [], 'score': 0.0}, 'confidence_score': 0.0, 'found': False}, 'M1': {'species_match': {'reactants': ['MNXM664__64__MNXC3'], 'reactants_score': [0.0], 'products': ['TARGET_0000000001__64__MNXC3'], 'products_score': [0.5], 'score': 0.25, 'found': False, 'sim_reaction': []}, 'ec_match': {'found': False, 'diff': [], 'score': 0.0}, 'confidence_score': 0.0, 'found': False}}\n",
      "#############################\n",
      "EC\n",
      "{'M3': {'species_match': {'reactants': ['MNXM23__64__MNXC3'], 'reactants_score': [0.0], 'products': ['MNXM114079__64__MNXC3'], 'products_score': [0.5], 'score': 0.25, 'found': False, 'sim_reaction': []}, 'ec_match': {'found': False, 'diff': [], 'score': 0.0}, 'confidence_score': 0.125, 'found': False}, 'M2': {'species_match': {'reactants': ['MNXM114079__64__MNXC3'], 'reactants_score': [0.5], 'products': ['MNXM664__64__MNXC3'], 'products_score': [0.0], 'score': 0.25, 'found': False, 'sim_reaction': []}, 'ec_match': {'found': False, 'diff': [], 'score': 0.0}, 'confidence_score': 0.125, 'found': False}, 'M1': {'species_match': {'reactants': ['MNXM664__64__MNXC3'], 'reactants_score': [0.0], 'products': ['TARGET_0000000001__64__MNXC3'], 'products_score': [0.5], 'score': 0.25, 'found': False, 'sim_reaction': []}, 'ec_match': {'found': False, 'diff': [], 'score': 0.0}, 'confidence_score': 0.125, 'found': False}, 'found': False}\n",
      "#############################\n",
      "dict_keys(['M3', 'M2', 'M1', 'found'])\n",
      "[0.25, 0.25, 0.25, 0.0, 0.0, 0.0]\n",
      "{'M3': {'species_match': {'reactants': ['MNXM23__64__MNXC3'], 'reactants_score': [0.0], 'products': ['MNXM114079__64__MNXC3'], 'products_score': [0.5], 'score': 0.25, 'found': False, 'sim_reaction': []}, 'ec_match': {'found': False, 'diff': [], 'score': 0.0}, 'confidence_score': 0.125, 'found': False}, 'M2': {'species_match': {'reactants': ['MNXM114079__64__MNXC3'], 'reactants_score': [0.5], 'products': ['MNXM664__64__MNXC3'], 'products_score': [0.0], 'score': 0.25, 'found': False, 'sim_reaction': []}, 'ec_match': {'found': False, 'diff': [], 'score': 0.0}, 'confidence_score': 0.125, 'found': False}, 'M1': {'species_match': {'reactants': ['MNXM664__64__MNXC3'], 'reactants_score': [0.0], 'products': ['TARGET_0000000001__64__MNXC3'], 'products_score': [0.5], 'score': 0.25, 'found': False, 'sim_reaction': []}, 'ec_match': {'found': False, 'diff': [], 'score': 0.0}, 'confidence_score': 0.125, 'found': False}, 'found': False, 'confidence_score': 0.125}\n"
     ]
    }
   ],
   "source": [
    "measured_reactions_match = rpTool.compareRPpathways_rewrite(rpsbml, measured)"
   ]
  },
  {
   "cell_type": "code",
   "execution_count": 4,
   "metadata": {},
   "outputs": [
    {
     "data": {
      "text/plain": [
       "{'M3': {'species_match': {'reactants': ['MNXM23__64__MNXC3'],\n",
       "   'reactants_score': [0.0],\n",
       "   'products': ['MNXM114079__64__MNXC3'],\n",
       "   'products_score': [0.5],\n",
       "   'score': 0.25,\n",
       "   'found': False,\n",
       "   'sim_reaction': []},\n",
       "  'ec_match': {'found': False, 'diff': [], 'score': 0.0},\n",
       "  'confidence_score': 0.125,\n",
       "  'found': False},\n",
       " 'M2': {'species_match': {'reactants': ['MNXM114079__64__MNXC3'],\n",
       "   'reactants_score': [0.5],\n",
       "   'products': ['MNXM664__64__MNXC3'],\n",
       "   'products_score': [0.0],\n",
       "   'score': 0.25,\n",
       "   'found': False,\n",
       "   'sim_reaction': []},\n",
       "  'ec_match': {'found': False, 'diff': [], 'score': 0.0},\n",
       "  'confidence_score': 0.125,\n",
       "  'found': False},\n",
       " 'M1': {'species_match': {'reactants': ['MNXM664__64__MNXC3'],\n",
       "   'reactants_score': [0.0],\n",
       "   'products': ['TARGET_0000000001__64__MNXC3'],\n",
       "   'products_score': [0.5],\n",
       "   'score': 0.25,\n",
       "   'found': False,\n",
       "   'sim_reaction': []},\n",
       "  'ec_match': {'found': False, 'diff': [], 'score': 0.0},\n",
       "  'confidence_score': 0.125,\n",
       "  'found': False},\n",
       " 'found': False,\n",
       " 'confidence_score': 0.125}"
      ]
     },
     "execution_count": 4,
     "metadata": {},
     "output_type": "execute_result"
    }
   ],
   "source": [
    "measured_reactions_match"
   ]
  },
  {
   "cell_type": "code",
   "execution_count": null,
   "metadata": {},
   "outputs": [],
   "source": []
  },
  {
   "cell_type": "code",
   "execution_count": null,
   "metadata": {},
   "outputs": [],
   "source": []
  },
  {
   "cell_type": "code",
   "execution_count": null,
   "metadata": {},
   "outputs": [],
   "source": []
  },
  {
   "cell_type": "code",
   "execution_count": 4,
   "metadata": {},
   "outputs": [],
   "source": [
    "out = {'M3': {'species_match': {'reactants': ['MNXM23__64__MNXC3'], 'reactants_score': [0.0], 'products': ['MNXM114079__64__MNXC3'], 'products_score': [0.5], 'score': 0.25, 'found': False, 'sim_reaction': []}, 'ec_match': {'found': False, 'diff': [], 'score': 0.0}, 'confidence_score': 0.125, 'found': False}, 'M2': {'species_match': {'reactants': ['MNXM114079__64__MNXC3'], 'reactants_score': [0.5], 'products': ['MNXM664__64__MNXC3'], 'products_score': [0.0], 'score': 0.25, 'found': False, 'sim_reaction': []}, 'ec_match': {'found': False, 'diff': [], 'score': 0.0}, 'confidence_score': 0.125, 'found': False}, 'M1': {'species_match': {'reactants': ['MNXM664__64__MNXC3'], 'reactants_score': [0.0], 'products': ['TARGET_0000000001__64__MNXC3'], 'products_score': [0.5], 'score': 0.25, 'found': False, 'sim_reaction': []}, 'ec_match': {'found': False, 'diff': [], 'score': 0.0}, 'confidence_score': 0.125, 'found': False}, 'found': False}\n",
    "\n",
    "\n",
    "\n",
    "\n",
    "\n",
    "\n"
   ]
  },
  {
   "cell_type": "code",
   "execution_count": 5,
   "metadata": {},
   "outputs": [
    {
     "data": {
      "text/plain": [
       "dict_keys(['M3', 'M2', 'M1', 'found'])"
      ]
     },
     "execution_count": 5,
     "metadata": {},
     "output_type": "execute_result"
    }
   ],
   "source": [
    "out.keys()"
   ]
  },
  {
   "cell_type": "code",
   "execution_count": 5,
   "metadata": {},
   "outputs": [
    {
     "data": {
      "text/plain": [
       "{'species_match': {'reactants': ['MNXM664__64__MNXC3'],\n",
       "  'reactants_score': [0.0],\n",
       "  'products': ['TARGET_0000000001__64__MNXC3'],\n",
       "  'products_score': [0.5],\n",
       "  'score': 0.25,\n",
       "  'found': False,\n",
       "  'sim_reaction': []},\n",
       " 'ec_match': {'found': False, 'diff': [], 'score': 0.0},\n",
       " 'confidence_score': 0.125,\n",
       " 'found': False}"
      ]
     },
     "execution_count": 5,
     "metadata": {},
     "output_type": "execute_result"
    }
   ],
   "source": [
    "out['M1']"
   ]
  },
  {
   "cell_type": "code",
   "execution_count": 6,
   "metadata": {},
   "outputs": [
    {
     "data": {
      "text/plain": [
       "{'species_match': {'reactants': ['MNXM114079__64__MNXC3'],\n",
       "  'reactants_score': [0.5],\n",
       "  'products': ['MNXM664__64__MNXC3'],\n",
       "  'products_score': [0.0],\n",
       "  'score': 0.25,\n",
       "  'found': False,\n",
       "  'sim_reaction': []},\n",
       " 'ec_match': {'found': False, 'diff': [], 'score': 0.0},\n",
       " 'confidence_score': 0.125,\n",
       " 'found': False}"
      ]
     },
     "execution_count": 6,
     "metadata": {},
     "output_type": "execute_result"
    }
   ],
   "source": [
    "out['M2']"
   ]
  },
  {
   "cell_type": "code",
   "execution_count": 7,
   "metadata": {},
   "outputs": [
    {
     "data": {
      "text/plain": [
       "{'species_match': {'reactants': ['MNXM23__64__MNXC3'],\n",
       "  'reactants_score': [0.0],\n",
       "  'products': ['MNXM114079__64__MNXC3'],\n",
       "  'products_score': [0.5],\n",
       "  'score': 0.25,\n",
       "  'found': False,\n",
       "  'sim_reaction': []},\n",
       " 'ec_match': {'found': False, 'diff': [], 'score': 0.0},\n",
       " 'confidence_score': 0.125,\n",
       " 'found': False}"
      ]
     },
     "execution_count": 7,
     "metadata": {},
     "output_type": "execute_result"
    }
   ],
   "source": [
    "out['M3']"
   ]
  },
  {
   "cell_type": "code",
   "execution_count": 10,
   "metadata": {},
   "outputs": [
    {
     "data": {
      "text/plain": [
       "0.125"
      ]
     },
     "execution_count": 10,
     "metadata": {},
     "output_type": "execute_result"
    }
   ],
   "source": [
    "out['M1']['confidence_score']"
   ]
  },
  {
   "cell_type": "code",
   "execution_count": 10,
   "metadata": {},
   "outputs": [
    {
     "data": {
      "text/plain": [
       "True"
      ]
     },
     "execution_count": 10,
     "metadata": {},
     "output_type": "execute_result"
    }
   ],
   "source": [
    "any([False, True, True])"
   ]
  },
  {
   "cell_type": "code",
   "execution_count": null,
   "metadata": {},
   "outputs": [],
   "source": []
  },
  {
   "cell_type": "code",
   "execution_count": 4,
   "metadata": {},
   "outputs": [],
   "source": [
    "import numpy as np"
   ]
  },
  {
   "cell_type": "code",
   "execution_count": 5,
   "metadata": {},
   "outputs": [
    {
     "data": {
      "text/plain": [
       "0.2"
      ]
     },
     "execution_count": 5,
     "metadata": {},
     "output_type": "execute_result"
    }
   ],
   "source": [
    "np.mean([1,0,0,0,0])"
   ]
  },
  {
   "cell_type": "code",
   "execution_count": 4,
   "metadata": {},
   "outputs": [
    {
     "data": {
      "text/plain": [
       "[1, 2]"
      ]
     },
     "execution_count": 4,
     "metadata": {},
     "output_type": "execute_result"
    }
   ],
   "source": [
    "list(set([1,2,3])-set([3,5]))"
   ]
  },
  {
   "cell_type": "code",
   "execution_count": 8,
   "metadata": {},
   "outputs": [
    {
     "data": {
      "text/plain": [
       "[1, 3, 4, 4, 5, 5]"
      ]
     },
     "execution_count": 8,
     "metadata": {},
     "output_type": "execute_result"
    }
   ],
   "source": [
    "[1,3,4]+[4,5,5]"
   ]
  },
  {
   "cell_type": "code",
   "execution_count": null,
   "metadata": {},
   "outputs": [],
   "source": []
  },
  {
   "cell_type": "code",
   "execution_count": null,
   "metadata": {},
   "outputs": [],
   "source": []
  },
  {
   "cell_type": "code",
   "execution_count": null,
   "metadata": {},
   "outputs": [],
   "source": []
  },
  {
   "cell_type": "code",
   "execution_count": null,
   "metadata": {},
   "outputs": [],
   "source": []
  },
  {
   "cell_type": "code",
   "execution_count": null,
   "metadata": {},
   "outputs": [],
   "source": []
  },
  {
   "cell_type": "code",
   "execution_count": 4,
   "metadata": {},
   "outputs": [],
   "source": [
    "a = {'M3': {'reactants': ['MNXM23__64__MNXC3'], 'products': ['MNXM114079__64__MNXC3'], 'score': 0.0, 'sim_reaction': None}, 'M2': {'reactants': ['MNXM114079__64__MNXC3'], 'products': ['MNXM664__64__MNXC3'], 'score': 0.0, 'sim_reaction': None}, 'M1': {'reactants': ['MNXM664__64__MNXC3'], 'products': ['TARGET_0000000001__64__MNXC3'], 'score': 0.0, 'sim_reaction': None}}"
   ]
  },
  {
   "cell_type": "code",
   "execution_count": 10,
   "metadata": {},
   "outputs": [
    {
     "data": {
      "text/plain": [
       "{'reactants': ['MNXM23__64__MNXC3'],\n",
       " 'products': ['MNXM114079__64__MNXC3'],\n",
       " 'score': 0.0,\n",
       " 'sim_reaction': None}"
      ]
     },
     "execution_count": 10,
     "metadata": {},
     "output_type": "execute_result"
    }
   ],
   "source": [
    "a['M3']"
   ]
  },
  {
   "cell_type": "code",
   "execution_count": 7,
   "metadata": {},
   "outputs": [
    {
     "data": {
      "text/plain": [
       "True"
      ]
     },
     "execution_count": 7,
     "metadata": {},
     "output_type": "execute_result"
    }
   ],
   "source": [
    "set(['a', 'b']).issubset(['a', 'b', 'c'])"
   ]
  },
  {
   "cell_type": "code",
   "execution_count": null,
   "metadata": {},
   "outputs": [],
   "source": []
  },
  {
   "cell_type": "code",
   "execution_count": null,
   "metadata": {},
   "outputs": [],
   "source": []
  },
  {
   "cell_type": "code",
   "execution_count": null,
   "metadata": {},
   "outputs": [],
   "source": []
  },
  {
   "cell_type": "code",
   "execution_count": null,
   "metadata": {},
   "outputs": [],
   "source": []
  },
  {
   "cell_type": "code",
   "execution_count": 6,
   "metadata": {},
   "outputs": [],
   "source": [
    "meas_species_match = {'MNXM23__64__MNXC3': {}, 'MNXM426__64__MNXC3': {'MNXM114079__64__MNXC3': 0.8}, 'MNXM664__64__MNXC3': {}, 'MNXM2757__64__MNXC3': {'TARGET_0000000001__64__MNXC3': 0.8}}"
   ]
  },
  {
   "cell_type": "code",
   "execution_count": 12,
   "metadata": {},
   "outputs": [
    {
     "data": {
      "text/plain": [
       "dict_keys(['MNXM23__64__MNXC3', 'MNXM426__64__MNXC3', 'MNXM664__64__MNXC3', 'MNXM2757__64__MNXC3'])"
      ]
     },
     "execution_count": 12,
     "metadata": {},
     "output_type": "execute_result"
    }
   ],
   "source": [
    "meas_species_match.keys()"
   ]
  },
  {
   "cell_type": "code",
   "execution_count": 5,
   "metadata": {},
   "outputs": [],
   "source": [
    "sim_reactions = {'RP1': {'reactants': [{'id': 'CMPD_0000000002__64__MNXC3', 'stoichiometry': 1.0}, {'id': 'MNXM1__64__MNXC3', 'stoichiometry': 1.0}, {'id': 'MNXM10__64__MNXC3', 'stoichiometry': 1.0}, {'id': 'TARGET_0000000001__64__MNXC3', 'stoichiometry': 1.0}, {'id': 'MNXM8__64__MNXC3', 'stoichiometry': 2.0}], 'products': []}, 'RP2': {'reactants': [{'id': 'MNXM114079__64__MNXC3', 'stoichiometry': 1.0}, {'id': 'MNXM8975__64__MNXC3', 'stoichiometry': 1.0}, {'id': 'CMPD_0000000002__64__MNXC3', 'stoichiometry': 1.0}, {'id': 'MNXM24__64__MNXC3', 'stoichiometry': 1.0}, {'id': 'MNXM13__64__MNXC3', 'stoichiometry': 1.0}], 'products': []}}"
   ]
  },
  {
   "cell_type": "code",
   "execution_count": 4,
   "metadata": {},
   "outputs": [],
   "source": [
    "measured_reactions_match = {'M3': {'reactants': [{'id': 'MNXM23__64__MNXC3', 'stoichiometry': 1.0, 'score': 0.0}], 'products': [{'id': 'MNXM426__64__MNXC3', 'stoichiometry': 1.0, 'score': 0.0}], 'score': 0.0, 'sim_reaction': None}, 'M2': {'reactants': [{'id': 'MNXM426__64__MNXC3', 'stoichiometry': 1.0, 'score': 0.0}], 'products': [{'id': 'MNXM664__64__MNXC3', 'stoichiometry': 1.0, 'score': 0.0}], 'score': 0.0, 'sim_reaction': None}, 'M1': {'reactants': [{'id': 'MNXM664__64__MNXC3', 'stoichiometry': 1.0, 'score': 0.0}], 'products': [{'id': 'MNXM2757__64__MNXC3', 'stoichiometry': 1.0, 'score': 0.0}], 'score': 0.0, 'sim_reaction': None}}"
   ]
  },
  {
   "cell_type": "code",
   "execution_count": 10,
   "metadata": {},
   "outputs": [
    {
     "data": {
      "text/plain": [
       "[{'id': 'CMPD_0000000002__64__MNXC3', 'stoichiometry': 1.0},\n",
       " {'id': 'MNXM1__64__MNXC3', 'stoichiometry': 1.0},\n",
       " {'id': 'MNXM10__64__MNXC3', 'stoichiometry': 1.0},\n",
       " {'id': 'TARGET_0000000001__64__MNXC3', 'stoichiometry': 1.0},\n",
       " {'id': 'MNXM8__64__MNXC3', 'stoichiometry': 2.0}]"
      ]
     },
     "execution_count": 10,
     "metadata": {},
     "output_type": "execute_result"
    }
   ],
   "source": [
    "sim_reactions['RP1']['reactants']"
   ]
  },
  {
   "cell_type": "code",
   "execution_count": 9,
   "metadata": {},
   "outputs": [
    {
     "data": {
      "text/plain": [
       "[{'id': 'MNXM664__64__MNXC3', 'stoichiometry': 1.0, 'score': 0.0}]"
      ]
     },
     "execution_count": 9,
     "metadata": {},
     "output_type": "execute_result"
    }
   ],
   "source": [
    "measured_reactions_match['M1']['reactants']"
   ]
  },
  {
   "cell_type": "code",
   "execution_count": 13,
   "metadata": {},
   "outputs": [
    {
     "data": {
      "text/plain": [
       "{}"
      ]
     },
     "execution_count": 13,
     "metadata": {},
     "output_type": "execute_result"
    }
   ],
   "source": [
    "meas_species_match[measured_reactions_match['M1']['reactants'][0]['id']]"
   ]
  },
  {
   "cell_type": "code",
   "execution_count": null,
   "metadata": {},
   "outputs": [],
   "source": []
  },
  {
   "cell_type": "code",
   "execution_count": null,
   "metadata": {},
   "outputs": [],
   "source": []
  },
  {
   "cell_type": "code",
   "execution_count": null,
   "metadata": {},
   "outputs": [],
   "source": []
  },
  {
   "cell_type": "code",
   "execution_count": null,
   "metadata": {},
   "outputs": [],
   "source": []
  },
  {
   "cell_type": "code",
   "execution_count": null,
   "metadata": {},
   "outputs": [],
   "source": []
  },
  {
   "cell_type": "code",
   "execution_count": 27,
   "metadata": {},
   "outputs": [],
   "source": [
    "a = {'M3': {'reactants': {'MNXM23__64__MNXC3': {'species': None, 'score': 0.0}}, 'products': {'MNXM426__64__MNXC3': {'species': 'MNXM114079__64__MNXC3', 'score': 0.8}}, 'score': 0.0}, 'M2': {'reactants': {'MNXM426__64__MNXC3': {'species': 'MNXM114079__64__MNXC3', 'score': 0.8}}, 'products': {'MNXM664__64__MNXC3': {'species': None, 'score': 0.0}}, 'score': 0.0}, 'M1': {'reactants': {'MNXM664__64__MNXC3': {'species': None, 'score': 0.0}}, 'products': {'MNXM2757__64__MNXC3': {'species': 'TARGET_0000000001__64__MNXC3', 'score': 0.8}}, 'score': 0.0}}"
   ]
  },
  {
   "cell_type": "code",
   "execution_count": 26,
   "metadata": {},
   "outputs": [
    {
     "data": {
      "text/plain": [
       "dict_keys(['MNXM23__64__MNXC3', 'MNXM426__64__MNXC3', 'MNXM664__64__MNXC3', 'MNXM2757__64__MNXC3'])"
      ]
     },
     "execution_count": 26,
     "metadata": {},
     "output_type": "execute_result"
    }
   ],
   "source": [
    "a.keys()"
   ]
  },
  {
   "cell_type": "code",
   "execution_count": 6,
   "metadata": {},
   "outputs": [
    {
     "data": {
      "text/plain": [
       "dict_keys(['reactants', 'products', 'score'])"
      ]
     },
     "execution_count": 6,
     "metadata": {},
     "output_type": "execute_result"
    }
   ],
   "source": [
    "a['M1'].keys()"
   ]
  },
  {
   "cell_type": "code",
   "execution_count": 19,
   "metadata": {},
   "outputs": [
    {
     "data": {
      "text/plain": [
       "{'MNXM664__64__MNXC3': {'species': None, 'score': 0.0}}"
      ]
     },
     "execution_count": 19,
     "metadata": {},
     "output_type": "execute_result"
    }
   ],
   "source": [
    "a['M1']['reactants']"
   ]
  },
  {
   "cell_type": "code",
   "execution_count": 20,
   "metadata": {},
   "outputs": [
    {
     "data": {
      "text/plain": [
       "[False]"
      ]
     },
     "execution_count": 20,
     "metadata": {},
     "output_type": "execute_result"
    }
   ],
   "source": [
    "[True if a['M1']['reactants'][g]['species'] else False for g in a['M1']['reactants']]"
   ]
  },
  {
   "cell_type": "code",
   "execution_count": 28,
   "metadata": {},
   "outputs": [
    {
     "data": {
      "text/plain": [
       "[0.0]"
      ]
     },
     "execution_count": 28,
     "metadata": {},
     "output_type": "execute_result"
    }
   ],
   "source": [
    "[a['M1']['reactants'][g]['score'] for g in a['M1']['reactants']]"
   ]
  },
  {
   "cell_type": "code",
   "execution_count": 17,
   "metadata": {},
   "outputs": [
    {
     "data": {
      "text/plain": [
       "{'MNXM2757__64__MNXC3': {'species': 'TARGET_0000000001__64__MNXC3',\n",
       "  'score': 0.8}}"
      ]
     },
     "execution_count": 17,
     "metadata": {},
     "output_type": "execute_result"
    }
   ],
   "source": [
    "a['M1']['products']"
   ]
  },
  {
   "cell_type": "code",
   "execution_count": 14,
   "metadata": {},
   "outputs": [
    {
     "data": {
      "text/plain": [
       "{'reactants': {'MNXM664__64__MNXC3': {'species': None, 'score': 0.0}},\n",
       " 'products': {'MNXM2757__64__MNXC3': {'species': 'TARGET_0000000001__64__MNXC3',\n",
       "   'score': 0.8}},\n",
       " 'score': 0.0}"
      ]
     },
     "execution_count": 14,
     "metadata": {},
     "output_type": "execute_result"
    }
   ],
   "source": [
    "a['M1']"
   ]
  },
  {
   "cell_type": "code",
   "execution_count": 24,
   "metadata": {},
   "outputs": [
    {
     "name": "stdout",
     "output_type": "stream",
     "text": [
      "sdsd\n"
     ]
    }
   ],
   "source": [
    "if all([True, True]):\n",
    "    print('sdsd')"
   ]
  },
  {
   "cell_type": "code",
   "execution_count": 22,
   "metadata": {},
   "outputs": [],
   "source": [
    "a = {'MNXM23__64__MNXC3': {}, 'MNXM426__64__MNXC3': {'MNXM114079__64__MNXC3': 0.8}, 'MNXM664__64__MNXC3': {}, 'MNXM2757__64__MNXC3': {'TARGET_0000000001__64__MNXC3': 0.8}}"
   ]
  },
  {
   "cell_type": "code",
   "execution_count": 10,
   "metadata": {},
   "outputs": [
    {
     "data": {
      "text/plain": [
       "dict_keys(['MNXM23__64__MNXC3', 'MNXM426__64__MNXC3', 'MNXM664__64__MNXC3', 'MNXM2757__64__MNXC3'])"
      ]
     },
     "execution_count": 10,
     "metadata": {},
     "output_type": "execute_result"
    }
   ],
   "source": [
    "a.keys()"
   ]
  },
  {
   "cell_type": "code",
   "execution_count": 11,
   "metadata": {},
   "outputs": [
    {
     "data": {
      "text/plain": [
       "'TARGET_0000000001__64__MNXC3'"
      ]
     },
     "execution_count": 11,
     "metadata": {},
     "output_type": "execute_result"
    }
   ],
   "source": [
    "list(a['MNXM2757__64__MNXC3'].keys())[0]"
   ]
  },
  {
   "cell_type": "code",
   "execution_count": null,
   "metadata": {},
   "outputs": [],
   "source": []
  },
  {
   "cell_type": "code",
   "execution_count": null,
   "metadata": {},
   "outputs": [],
   "source": []
  },
  {
   "cell_type": "code",
   "execution_count": null,
   "metadata": {},
   "outputs": [],
   "source": [
    "{'MNXM23__64__MNXC3': {}, 'MNXM426__64__MNXC3': {'MNXM114079__64__MNXC3': 0.8}, 'MNXM664__64__MNXC3': {}, 'MNXM2757__64__MNXC3': {'TARGET_0000000001__64__MNXC3': 0.8}}"
   ]
  },
  {
   "cell_type": "code",
   "execution_count": null,
   "metadata": {},
   "outputs": [],
   "source": []
  },
  {
   "cell_type": "code",
   "execution_count": null,
   "metadata": {},
   "outputs": [],
   "source": []
  },
  {
   "cell_type": "code",
   "execution_count": 4,
   "metadata": {},
   "outputs": [
    {
     "data": {
      "text/plain": [
       "<Species MNXM114079__64__MNXC3 \"(2S)-2-acetolactate\">"
      ]
     },
     "execution_count": 4,
     "metadata": {},
     "output_type": "execute_result"
    }
   ],
   "source": [
    "rpsbml.model.getSpecies('MNXM114079__64__MNXC3')"
   ]
  },
  {
   "cell_type": "code",
   "execution_count": 4,
   "metadata": {},
   "outputs": [],
   "source": [
    "a = {'reactants': {'species': {'MNXM664__64__MNXC3': {}}, 'num': 1}, 'products': {'species': {'MNXM2757__64__MNXC3': {'TARGET_0000000001__64__MNXC3': 0.8}}, 'num': 1}, 'score': None}"
   ]
  },
  {
   "cell_type": "code",
   "execution_count": 5,
   "metadata": {},
   "outputs": [
    {
     "data": {
      "text/plain": [
       "dict_keys(['reactants', 'products', 'score'])"
      ]
     },
     "execution_count": 5,
     "metadata": {},
     "output_type": "execute_result"
    }
   ],
   "source": [
    "a.keys()"
   ]
  },
  {
   "cell_type": "code",
   "execution_count": 6,
   "metadata": {},
   "outputs": [
    {
     "data": {
      "text/plain": [
       "{'MNXM664__64__MNXC3': {}}"
      ]
     },
     "execution_count": 6,
     "metadata": {},
     "output_type": "execute_result"
    }
   ],
   "source": [
    "a['reactants']['species']"
   ]
  },
  {
   "cell_type": "code",
   "execution_count": 8,
   "metadata": {},
   "outputs": [
    {
     "data": {
      "text/plain": [
       "{'MNXM2757__64__MNXC3': {'TARGET_0000000001__64__MNXC3': 0.8}}"
      ]
     },
     "execution_count": 8,
     "metadata": {},
     "output_type": "execute_result"
    }
   ],
   "source": [
    "a['products']['species']"
   ]
  },
  {
   "cell_type": "code",
   "execution_count": 9,
   "metadata": {},
   "outputs": [],
   "source": [
    "b = {'reactants': {'species': {'MNXM664__64__MNXC3': {}}, 'num': 1}, 'products': {'species': {'MNXM2757__64__MNXC3': {'TARGET_0000000001__64__MNXC3': 0.8}}, 'num': 1}, 'score': None}"
   ]
  },
  {
   "cell_type": "code",
   "execution_count": 13,
   "metadata": {},
   "outputs": [
    {
     "data": {
      "text/plain": [
       "{'MNXM664__64__MNXC3': {}}"
      ]
     },
     "execution_count": 13,
     "metadata": {},
     "output_type": "execute_result"
    }
   ],
   "source": [
    "b['reactants']['species']"
   ]
  },
  {
   "cell_type": "code",
   "execution_count": 15,
   "metadata": {},
   "outputs": [
    {
     "data": {
      "text/plain": [
       "{'MNXM2757__64__MNXC3': {'TARGET_0000000001__64__MNXC3': 0.8}}"
      ]
     },
     "execution_count": 15,
     "metadata": {},
     "output_type": "execute_result"
    }
   ],
   "source": [
    "b['products']['species']"
   ]
  },
  {
   "cell_type": "code",
   "execution_count": null,
   "metadata": {},
   "outputs": [],
   "source": []
  },
  {
   "cell_type": "code",
   "execution_count": 8,
   "metadata": {},
   "outputs": [
    {
     "data": {
      "text/plain": [
       "{'MNXM664__64__MNXC3': {}}"
      ]
     },
     "execution_count": 8,
     "metadata": {},
     "output_type": "execute_result"
    }
   ],
   "source": [
    "a['products']['species']"
   ]
  },
  {
   "cell_type": "code",
   "execution_count": null,
   "metadata": {},
   "outputs": [],
   "source": []
  },
  {
   "cell_type": "code",
   "execution_count": 35,
   "metadata": {},
   "outputs": [],
   "source": [
    "a = rpsbml.model.getListOfReactions()"
   ]
  },
  {
   "cell_type": "code",
   "execution_count": 36,
   "metadata": {},
   "outputs": [],
   "source": [
    "b = a[0]"
   ]
  },
  {
   "cell_type": "code",
   "execution_count": 37,
   "metadata": {},
   "outputs": [],
   "source": [
    "c = b.getListOfProducts()"
   ]
  },
  {
   "cell_type": "code",
   "execution_count": 39,
   "metadata": {},
   "outputs": [],
   "source": [
    "d = c[0]"
   ]
  },
  {
   "cell_type": "code",
   "execution_count": 43,
   "metadata": {},
   "outputs": [
    {
     "data": {
      "text/plain": [
       "1.0"
      ]
     },
     "execution_count": 43,
     "metadata": {},
     "output_type": "execute_result"
    }
   ],
   "source": [
    "d.stoichiometry"
   ]
  },
  {
   "cell_type": "code",
   "execution_count": null,
   "metadata": {},
   "outputs": [],
   "source": []
  },
  {
   "cell_type": "code",
   "execution_count": 6,
   "metadata": {},
   "outputs": [
    {
     "data": {
      "text/plain": [
       "['MNXM114079__64__MNXC3',\n",
       " 'CMPD_0000000002__64__MNXC3',\n",
       " 'MNXM10__64__MNXC3',\n",
       " 'TARGET_0000000001__64__MNXC3',\n",
       " 'MNXM1__64__MNXC3',\n",
       " 'MNXM8975__64__MNXC3',\n",
       " 'MNXM24__64__MNXC3',\n",
       " 'MNXM13__64__MNXC3',\n",
       " 'MNXM8__64__MNXC3']"
      ]
     },
     "execution_count": 6,
     "metadata": {},
     "output_type": "execute_result"
    }
   ],
   "source": [
    "[i.getId() for i in a]"
   ]
  },
  {
   "cell_type": "code",
   "execution_count": 4,
   "metadata": {},
   "outputs": [],
   "source": [
    "a = {'reactants': {'MNXM426__64__MNXC3': {'MNXM114079__64__MNXC3': 0.8}}, 'products': {'MNXM664__64__MNXC3': {}}, 'score': None}"
   ]
  },
  {
   "cell_type": "code",
   "execution_count": 5,
   "metadata": {},
   "outputs": [
    {
     "data": {
      "text/plain": [
       "{'reactants': {'MNXM426__64__MNXC3': {'MNXM114079__64__MNXC3': 0.8}},\n",
       " 'products': {'MNXM664__64__MNXC3': {}},\n",
       " 'score': None}"
      ]
     },
     "execution_count": 5,
     "metadata": {},
     "output_type": "execute_result"
    }
   ],
   "source": [
    "a"
   ]
  },
  {
   "cell_type": "code",
   "execution_count": 6,
   "metadata": {},
   "outputs": [
    {
     "data": {
      "text/plain": [
       "{'MNXM426__64__MNXC3': {'MNXM114079__64__MNXC3': 0.8}}"
      ]
     },
     "execution_count": 6,
     "metadata": {},
     "output_type": "execute_result"
    }
   ],
   "source": [
    "a['reactants']"
   ]
  },
  {
   "cell_type": "code",
   "execution_count": null,
   "metadata": {},
   "outputs": [],
   "source": []
  }
 ],
 "metadata": {
  "kernelspec": {
   "display_name": "Python 3",
   "language": "python",
   "name": "python3"
  },
  "language_info": {
   "codemirror_mode": {
    "name": "ipython",
    "version": 3
   },
   "file_extension": ".py",
   "mimetype": "text/x-python",
   "name": "python",
   "nbconvert_exporter": "python",
   "pygments_lexer": "ipython3",
   "version": "3.7.3"
  }
 },
 "nbformat": 4,
 "nbformat_minor": 2
}
